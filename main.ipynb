{
 "cells": [
  {
   "cell_type": "code",
   "execution_count": 42,
   "metadata": {},
   "outputs": [],
   "source": [
    "import numpy as np\n",
    "import pygame as pg\n",
    "import math\n",
    "import random\n",
    "\n",
    "# Always pick the same \"random\" elements\n",
    "random.seed(42)"
   ]
  },
  {
   "attachments": {},
   "cell_type": "markdown",
   "metadata": {},
   "source": [
    "K-Means Clustering:\n",
    "\n",
    "1. Select the number of clusters k\n",
    "2. Select k random elements as the initial mean values\n",
    "3. Calculate the distance between every element e_i and every mean value m_k\n",
    "4. Assign every element e_i to the cluster k, with its lowest distance to m_k\n",
    "5. Calculate the new means m_k of every cluster k\n",
    "6. Check if, the means have changed compared to the previous step\n",
    "\n",
    "If yes: start over again in Step 3  \n",
    "If no: Calculation has finished \n",
    "\n",
    "Set the \"random.seed(<number>)\", to initialize the same initial means in every code execution"
   ]
  },
  {
   "cell_type": "code",
   "execution_count": 43,
   "metadata": {},
   "outputs": [],
   "source": [
    "# Compares the means m_1 to m_k of the previous and current step\n",
    "def compare_means(old_means, new_means):\n",
    "    same = 0\n",
    "    element_counter = len(old_means)\n",
    "\n",
    "    for i in range(element_counter):\n",
    "        if old_means[i][0] == new_means[i][0] and old_means[i][1] == new_means[i][1]:\n",
    "            same += 1\n",
    "\n",
    "    if same == element_counter:\n",
    "        return True\n",
    "    else:\n",
    "        return False\n",
    "\n",
    "# Generates an empty cluster list with k lists as its elements\n",
    "def generate_empty_cluster_list(k):\n",
    "    clusters = []\n",
    "    for i in range(k):\n",
    "        clusters.append([])\n",
    "    \n",
    "    return clusters"
   ]
  },
  {
   "cell_type": "code",
   "execution_count": 44,
   "metadata": {},
   "outputs": [],
   "source": [
    "# Elements to cluster\n",
    "elements = [\n",
    "    pg.math.Vector2(34, 46),\n",
    "    pg.math.Vector2(3, 7),\n",
    "    pg.math.Vector2(100, 42),\n",
    "    pg.math.Vector2(50, 87),\n",
    "    pg.math.Vector2(96, 23),\n",
    "    pg.math.Vector2(19, 82),\n",
    "    pg.math.Vector2(98, 7),\n",
    "    pg.math.Vector2(68, 86),\n",
    "    pg.math.Vector2(84, 76),\n",
    "    pg.math.Vector2(31, 72),\n",
    "    pg.math.Vector2(93, 11),\n",
    "    pg.math.Vector2(84, 16)\n",
    "]\n",
    "\n",
    "# How many clusters\n",
    "k = 4\n",
    "\n",
    "# Picks k elements as the initial mean values m_1 to m_k\n",
    "rand_elements = random.sample(elements, k)\n",
    "means = []\n",
    "for rand_element in rand_elements:\n",
    "    means.append(rand_element.copy())\n",
    "\n",
    "old_means = []\n",
    "for i in range(k):\n",
    "    old_means.append(pg.math.Vector2(1, 1))"
   ]
  },
  {
   "cell_type": "code",
   "execution_count": 45,
   "metadata": {},
   "outputs": [],
   "source": [
    "while not compare_means(old_means, means):\n",
    "    clusters = generate_empty_cluster_list(k)\n",
    "    \n",
    "    ### Calculate the relationships between the elements and the means\n",
    "    for element in elements:\n",
    "        dist = 10000\n",
    "        i = 0\n",
    "        for mean in means:\n",
    "            #current_dist = pg.math.Vector2.length(element - mean)\n",
    "            current_dist = element.distance_to(mean)\n",
    "            if current_dist < dist:\n",
    "                dist = current_dist\n",
    "                mean_index = i\n",
    "            i += 1\n",
    "        clusters[mean_index].append(element) # Clusters k with their assigned elements\n",
    "\n",
    "    ### Calculate the new cluster means\n",
    "    # Store the current mean values (need to copy elements 1-by-1 due to reference linking)\n",
    "    i = 0\n",
    "    for mean in means:\n",
    "        old_means[i] = mean.copy()\n",
    "        i += 1\n",
    "    \n",
    "    cluster_index = 0\n",
    "    for cluster in clusters:\n",
    "        element_counter = len(cluster)\n",
    "        x_sum = 0\n",
    "        y_sum = 0\n",
    "\n",
    "        for element in cluster:\n",
    "            x_sum += element[0]\n",
    "            y_sum += element[1]\n",
    "\n",
    "        means[cluster_index][0] = x_sum / element_counter\n",
    "        means[cluster_index][1] = y_sum / element_counter\n",
    "        \n",
    "        cluster_index += 1"
   ]
  },
  {
   "cell_type": "code",
   "execution_count": 46,
   "metadata": {},
   "outputs": [
    {
     "name": "stdout",
     "output_type": "stream",
     "text": [
      "[<Vector2(96, 23)>, <Vector2(98, 7)>, <Vector2(93, 11)>, <Vector2(84, 16)>]\n",
      "[<Vector2(3, 7)>]\n",
      "[<Vector2(34, 46)>, <Vector2(50, 87)>, <Vector2(19, 82)>, <Vector2(68, 86)>, <Vector2(31, 72)>]\n",
      "[<Vector2(100, 42)>, <Vector2(84, 76)>]\n"
     ]
    }
   ],
   "source": [
    "for cluster in clusters:\n",
    "    print(cluster)"
   ]
  },
  {
   "cell_type": "code",
   "execution_count": null,
   "metadata": {},
   "outputs": [],
   "source": []
  }
 ],
 "metadata": {
  "kernelspec": {
   "display_name": "py3108",
   "language": "python",
   "name": "python3"
  },
  "language_info": {
   "codemirror_mode": {
    "name": "ipython",
    "version": 3
   },
   "file_extension": ".py",
   "mimetype": "text/x-python",
   "name": "python",
   "nbconvert_exporter": "python",
   "pygments_lexer": "ipython3",
   "version": "3.10.9"
  },
  "orig_nbformat": 4,
  "vscode": {
   "interpreter": {
    "hash": "a55a648a32e7567188e56f0c590c5b6fb71156b2a81df4233dbdb9cf3084bebc"
   }
  }
 },
 "nbformat": 4,
 "nbformat_minor": 2
}
